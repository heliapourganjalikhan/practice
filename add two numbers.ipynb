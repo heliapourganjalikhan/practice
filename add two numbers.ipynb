{
 "cells": [
  {
   "cell_type": "code",
   "execution_count": 46,
   "id": "f87a21aa",
   "metadata": {},
   "outputs": [
    {
     "name": "stdout",
     "output_type": "stream",
     "text": [
      "[4, 6, 8]\n"
     ]
    }
   ],
   "source": [
    "l1 = [1,2,3]\n",
    "l2 = [3,4,5]\n",
    "ltemp1 = l1.copy()\n",
    "num1=0\n",
    "for i in ltemp1 :\n",
    "    t = l1.pop()\n",
    "    l1.append(t)\n",
    "    num1 += t * 10**(l1.index(t))\n",
    "    l1.pop()\n",
    "ltemp2 = l2.copy()\n",
    "num2=0\n",
    "for i in ltemp2 :\n",
    "    t = l2.pop()\n",
    "    l2.append(t)\n",
    "    num2 += t * 10**(l2.index(t))\n",
    "    l2.pop()\n",
    "total = num1 + num2\n",
    "output = [int(x) for x in str(total)]\n",
    "output.reverse()\n",
    "print(output)\n"
   ]
  },
  {
   "cell_type": "code",
   "execution_count": null,
   "id": "6cda7add",
   "metadata": {},
   "outputs": [],
   "source": []
  },
  {
   "cell_type": "code",
   "execution_count": null,
   "id": "f21f9342",
   "metadata": {},
   "outputs": [],
   "source": []
  },
  {
   "cell_type": "code",
   "execution_count": null,
   "id": "611996ce",
   "metadata": {},
   "outputs": [],
   "source": []
  }
 ],
 "metadata": {
  "kernelspec": {
   "display_name": "Python 3 (ipykernel)",
   "language": "python",
   "name": "python3"
  },
  "language_info": {
   "codemirror_mode": {
    "name": "ipython",
    "version": 3
   },
   "file_extension": ".py",
   "mimetype": "text/x-python",
   "name": "python",
   "nbconvert_exporter": "python",
   "pygments_lexer": "ipython3",
   "version": "3.11.3"
  }
 },
 "nbformat": 4,
 "nbformat_minor": 5
}
